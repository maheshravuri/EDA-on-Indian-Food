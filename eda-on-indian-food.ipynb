{
 "cells": [
  {
   "cell_type": "code",
   "execution_count": 1,
   "id": "2676ac76",
   "metadata": {
    "execution": {
     "iopub.execute_input": "2021-10-15T14:24:00.074504Z",
     "iopub.status.busy": "2021-10-15T14:24:00.073336Z",
     "iopub.status.idle": "2021-10-15T14:24:00.854633Z",
     "shell.execute_reply": "2021-10-15T14:24:00.855204Z",
     "shell.execute_reply.started": "2021-10-15T14:23:10.800502Z"
    },
    "papermill": {
     "duration": 0.814782,
     "end_time": "2021-10-15T14:24:00.855603",
     "exception": false,
     "start_time": "2021-10-15T14:24:00.040821",
     "status": "completed"
    },
    "tags": []
   },
   "outputs": [],
   "source": [
    "import pandas as pd \n",
    "import numpy as np\n",
    "import seaborn as sns \n",
    "import matplotlib.pyplot as plt\n",
    "%matplotlib inline"
   ]
  },
  {
   "cell_type": "markdown",
   "id": "3eaa5624",
   "metadata": {
    "papermill": {
     "duration": 0.026108,
     "end_time": "2021-10-15T14:24:00.911081",
     "exception": false,
     "start_time": "2021-10-15T14:24:00.884973",
     "status": "completed"
    },
    "tags": []
   },
   "source": [
    "Import all the required libraries"
   ]
  },
  {
   "cell_type": "code",
   "execution_count": 2,
   "id": "3debb2da",
   "metadata": {
    "execution": {
     "iopub.execute_input": "2021-10-15T14:24:00.968367Z",
     "iopub.status.busy": "2021-10-15T14:24:00.967744Z",
     "iopub.status.idle": "2021-10-15T14:24:00.990314Z",
     "shell.execute_reply": "2021-10-15T14:24:00.990850Z",
     "shell.execute_reply.started": "2021-10-15T14:23:10.810837Z"
    },
    "papermill": {
     "duration": 0.053108,
     "end_time": "2021-10-15T14:24:00.991015",
     "exception": false,
     "start_time": "2021-10-15T14:24:00.937907",
     "status": "completed"
    },
    "tags": []
   },
   "outputs": [],
   "source": [
    "food=pd.read_csv(\"../input/indian-food-101/indian_food.csv\")"
   ]
  },
  {
   "cell_type": "code",
   "execution_count": 3,
   "id": "c12a96f3",
   "metadata": {
    "execution": {
     "iopub.execute_input": "2021-10-15T14:24:01.049200Z",
     "iopub.status.busy": "2021-10-15T14:24:01.048612Z",
     "iopub.status.idle": "2021-10-15T14:24:01.055055Z",
     "shell.execute_reply": "2021-10-15T14:24:01.055649Z",
     "shell.execute_reply.started": "2021-10-15T14:23:10.830222Z"
    },
    "papermill": {
     "duration": 0.036976,
     "end_time": "2021-10-15T14:24:01.055829",
     "exception": false,
     "start_time": "2021-10-15T14:24:01.018853",
     "status": "completed"
    },
    "tags": []
   },
   "outputs": [
    {
     "data": {
      "text/plain": [
       "(255, 9)"
      ]
     },
     "execution_count": 3,
     "metadata": {},
     "output_type": "execute_result"
    }
   ],
   "source": [
    "food.shape"
   ]
  },
  {
   "cell_type": "markdown",
   "id": "17be896a",
   "metadata": {
    "papermill": {
     "duration": 0.026904,
     "end_time": "2021-10-15T14:24:01.110676",
     "exception": false,
     "start_time": "2021-10-15T14:24:01.083772",
     "status": "completed"
    },
    "tags": []
   },
   "source": [
    "Shape attribute tells us the number of rows and columns in dataset\n",
    "\n",
    "* Our dataset has 255 rows and 9 columns."
   ]
  },
  {
   "cell_type": "code",
   "execution_count": 4,
   "id": "26c1b022",
   "metadata": {
    "execution": {
     "iopub.execute_input": "2021-10-15T14:24:01.173525Z",
     "iopub.status.busy": "2021-10-15T14:24:01.172599Z",
     "iopub.status.idle": "2021-10-15T14:24:01.194157Z",
     "shell.execute_reply": "2021-10-15T14:24:01.193639Z",
     "shell.execute_reply.started": "2021-10-15T14:23:10.841131Z"
    },
    "papermill": {
     "duration": 0.05623,
     "end_time": "2021-10-15T14:24:01.194297",
     "exception": false,
     "start_time": "2021-10-15T14:24:01.138067",
     "status": "completed"
    },
    "tags": []
   },
   "outputs": [
    {
     "data": {
      "text/html": [
       "<div>\n",
       "<style scoped>\n",
       "    .dataframe tbody tr th:only-of-type {\n",
       "        vertical-align: middle;\n",
       "    }\n",
       "\n",
       "    .dataframe tbody tr th {\n",
       "        vertical-align: top;\n",
       "    }\n",
       "\n",
       "    .dataframe thead th {\n",
       "        text-align: right;\n",
       "    }\n",
       "</style>\n",
       "<table border=\"1\" class=\"dataframe\">\n",
       "  <thead>\n",
       "    <tr style=\"text-align: right;\">\n",
       "      <th></th>\n",
       "      <th>name</th>\n",
       "      <th>ingredients</th>\n",
       "      <th>diet</th>\n",
       "      <th>prep_time</th>\n",
       "      <th>cook_time</th>\n",
       "      <th>flavor_profile</th>\n",
       "      <th>course</th>\n",
       "      <th>state</th>\n",
       "      <th>region</th>\n",
       "    </tr>\n",
       "  </thead>\n",
       "  <tbody>\n",
       "    <tr>\n",
       "      <th>0</th>\n",
       "      <td>Balu shahi</td>\n",
       "      <td>Maida flour, yogurt, oil, sugar</td>\n",
       "      <td>vegetarian</td>\n",
       "      <td>45</td>\n",
       "      <td>25</td>\n",
       "      <td>sweet</td>\n",
       "      <td>dessert</td>\n",
       "      <td>West Bengal</td>\n",
       "      <td>East</td>\n",
       "    </tr>\n",
       "    <tr>\n",
       "      <th>1</th>\n",
       "      <td>Boondi</td>\n",
       "      <td>Gram flour, ghee, sugar</td>\n",
       "      <td>vegetarian</td>\n",
       "      <td>80</td>\n",
       "      <td>30</td>\n",
       "      <td>sweet</td>\n",
       "      <td>dessert</td>\n",
       "      <td>Rajasthan</td>\n",
       "      <td>West</td>\n",
       "    </tr>\n",
       "    <tr>\n",
       "      <th>2</th>\n",
       "      <td>Gajar ka halwa</td>\n",
       "      <td>Carrots, milk, sugar, ghee, cashews, raisins</td>\n",
       "      <td>vegetarian</td>\n",
       "      <td>15</td>\n",
       "      <td>60</td>\n",
       "      <td>sweet</td>\n",
       "      <td>dessert</td>\n",
       "      <td>Punjab</td>\n",
       "      <td>North</td>\n",
       "    </tr>\n",
       "    <tr>\n",
       "      <th>3</th>\n",
       "      <td>Ghevar</td>\n",
       "      <td>Flour, ghee, kewra, milk, clarified butter, su...</td>\n",
       "      <td>vegetarian</td>\n",
       "      <td>15</td>\n",
       "      <td>30</td>\n",
       "      <td>sweet</td>\n",
       "      <td>dessert</td>\n",
       "      <td>Rajasthan</td>\n",
       "      <td>West</td>\n",
       "    </tr>\n",
       "    <tr>\n",
       "      <th>4</th>\n",
       "      <td>Gulab jamun</td>\n",
       "      <td>Milk powder, plain flour, baking powder, ghee,...</td>\n",
       "      <td>vegetarian</td>\n",
       "      <td>15</td>\n",
       "      <td>40</td>\n",
       "      <td>sweet</td>\n",
       "      <td>dessert</td>\n",
       "      <td>West Bengal</td>\n",
       "      <td>East</td>\n",
       "    </tr>\n",
       "  </tbody>\n",
       "</table>\n",
       "</div>"
      ],
      "text/plain": [
       "             name                                        ingredients  \\\n",
       "0      Balu shahi                    Maida flour, yogurt, oil, sugar   \n",
       "1          Boondi                            Gram flour, ghee, sugar   \n",
       "2  Gajar ka halwa       Carrots, milk, sugar, ghee, cashews, raisins   \n",
       "3          Ghevar  Flour, ghee, kewra, milk, clarified butter, su...   \n",
       "4     Gulab jamun  Milk powder, plain flour, baking powder, ghee,...   \n",
       "\n",
       "         diet  prep_time  cook_time flavor_profile   course        state  \\\n",
       "0  vegetarian         45         25          sweet  dessert  West Bengal   \n",
       "1  vegetarian         80         30          sweet  dessert    Rajasthan   \n",
       "2  vegetarian         15         60          sweet  dessert       Punjab   \n",
       "3  vegetarian         15         30          sweet  dessert    Rajasthan   \n",
       "4  vegetarian         15         40          sweet  dessert  West Bengal   \n",
       "\n",
       "  region  \n",
       "0   East  \n",
       "1   West  \n",
       "2  North  \n",
       "3   West  \n",
       "4   East  "
      ]
     },
     "execution_count": 4,
     "metadata": {},
     "output_type": "execute_result"
    }
   ],
   "source": [
    "food.head()"
   ]
  },
  {
   "cell_type": "markdown",
   "id": "3f0b33ed",
   "metadata": {
    "papermill": {
     "duration": 0.031503,
     "end_time": "2021-10-15T14:24:01.262962",
     "exception": false,
     "start_time": "2021-10-15T14:24:01.231459",
     "status": "completed"
    },
    "tags": []
   },
   "source": [
    "head() returns the first five rows of the given dataset\n",
    "\n",
    "* The first five dishes are of vegitarian diet. Their flavor_profile is sweet and course is dessert.\n",
    "* Three of them have same prep_time of 15 and two of them have same cook_time. \n",
    "* Two of the dishes in the first five are from West Rajasthan.\n",
    "* Among these Boondi takes maximum time and Ghevar takes least time."
   ]
  },
  {
   "cell_type": "code",
   "execution_count": 5,
   "id": "39994c96",
   "metadata": {
    "execution": {
     "iopub.execute_input": "2021-10-15T14:24:01.337027Z",
     "iopub.status.busy": "2021-10-15T14:24:01.336375Z",
     "iopub.status.idle": "2021-10-15T14:24:01.339810Z",
     "shell.execute_reply": "2021-10-15T14:24:01.340399Z",
     "shell.execute_reply.started": "2021-10-15T14:23:10.866435Z"
    },
    "papermill": {
     "duration": 0.045126,
     "end_time": "2021-10-15T14:24:01.340566",
     "exception": false,
     "start_time": "2021-10-15T14:24:01.295440",
     "status": "completed"
    },
    "tags": []
   },
   "outputs": [
    {
     "data": {
      "text/html": [
       "<div>\n",
       "<style scoped>\n",
       "    .dataframe tbody tr th:only-of-type {\n",
       "        vertical-align: middle;\n",
       "    }\n",
       "\n",
       "    .dataframe tbody tr th {\n",
       "        vertical-align: top;\n",
       "    }\n",
       "\n",
       "    .dataframe thead th {\n",
       "        text-align: right;\n",
       "    }\n",
       "</style>\n",
       "<table border=\"1\" class=\"dataframe\">\n",
       "  <thead>\n",
       "    <tr style=\"text-align: right;\">\n",
       "      <th></th>\n",
       "      <th>name</th>\n",
       "      <th>ingredients</th>\n",
       "      <th>diet</th>\n",
       "      <th>prep_time</th>\n",
       "      <th>cook_time</th>\n",
       "      <th>flavor_profile</th>\n",
       "      <th>course</th>\n",
       "      <th>state</th>\n",
       "      <th>region</th>\n",
       "    </tr>\n",
       "  </thead>\n",
       "  <tbody>\n",
       "    <tr>\n",
       "      <th>250</th>\n",
       "      <td>Til Pitha</td>\n",
       "      <td>Glutinous rice, black sesame seeds, gur</td>\n",
       "      <td>vegetarian</td>\n",
       "      <td>5</td>\n",
       "      <td>30</td>\n",
       "      <td>sweet</td>\n",
       "      <td>dessert</td>\n",
       "      <td>Assam</td>\n",
       "      <td>North East</td>\n",
       "    </tr>\n",
       "    <tr>\n",
       "      <th>251</th>\n",
       "      <td>Bebinca</td>\n",
       "      <td>Coconut milk, egg yolks, clarified butter, all...</td>\n",
       "      <td>vegetarian</td>\n",
       "      <td>20</td>\n",
       "      <td>60</td>\n",
       "      <td>sweet</td>\n",
       "      <td>dessert</td>\n",
       "      <td>Goa</td>\n",
       "      <td>West</td>\n",
       "    </tr>\n",
       "    <tr>\n",
       "      <th>252</th>\n",
       "      <td>Shufta</td>\n",
       "      <td>Cottage cheese, dry dates, dried rose petals, ...</td>\n",
       "      <td>vegetarian</td>\n",
       "      <td>-1</td>\n",
       "      <td>-1</td>\n",
       "      <td>sweet</td>\n",
       "      <td>dessert</td>\n",
       "      <td>Jammu &amp; Kashmir</td>\n",
       "      <td>North</td>\n",
       "    </tr>\n",
       "    <tr>\n",
       "      <th>253</th>\n",
       "      <td>Mawa Bati</td>\n",
       "      <td>Milk powder, dry fruits, arrowroot powder, all...</td>\n",
       "      <td>vegetarian</td>\n",
       "      <td>20</td>\n",
       "      <td>45</td>\n",
       "      <td>sweet</td>\n",
       "      <td>dessert</td>\n",
       "      <td>Madhya Pradesh</td>\n",
       "      <td>Central</td>\n",
       "    </tr>\n",
       "    <tr>\n",
       "      <th>254</th>\n",
       "      <td>Pinaca</td>\n",
       "      <td>Brown rice, fennel seeds, grated coconut, blac...</td>\n",
       "      <td>vegetarian</td>\n",
       "      <td>-1</td>\n",
       "      <td>-1</td>\n",
       "      <td>sweet</td>\n",
       "      <td>dessert</td>\n",
       "      <td>Goa</td>\n",
       "      <td>West</td>\n",
       "    </tr>\n",
       "  </tbody>\n",
       "</table>\n",
       "</div>"
      ],
      "text/plain": [
       "          name                                        ingredients        diet  \\\n",
       "250  Til Pitha            Glutinous rice, black sesame seeds, gur  vegetarian   \n",
       "251    Bebinca  Coconut milk, egg yolks, clarified butter, all...  vegetarian   \n",
       "252     Shufta  Cottage cheese, dry dates, dried rose petals, ...  vegetarian   \n",
       "253  Mawa Bati  Milk powder, dry fruits, arrowroot powder, all...  vegetarian   \n",
       "254     Pinaca  Brown rice, fennel seeds, grated coconut, blac...  vegetarian   \n",
       "\n",
       "     prep_time  cook_time flavor_profile   course            state      region  \n",
       "250          5         30          sweet  dessert            Assam  North East  \n",
       "251         20         60          sweet  dessert              Goa        West  \n",
       "252         -1         -1          sweet  dessert  Jammu & Kashmir       North  \n",
       "253         20         45          sweet  dessert   Madhya Pradesh     Central  \n",
       "254         -1         -1          sweet  dessert              Goa        West  "
      ]
     },
     "execution_count": 5,
     "metadata": {},
     "output_type": "execute_result"
    }
   ],
   "source": [
    "food.tail()"
   ]
  },
  {
   "cell_type": "markdown",
   "id": "acdd19db",
   "metadata": {
    "papermill": {
     "duration": 0.02807,
     "end_time": "2021-10-15T14:24:01.396988",
     "exception": false,
     "start_time": "2021-10-15T14:24:01.368918",
     "status": "completed"
    },
    "tags": []
   },
   "source": [
    "tail() returns the last five rows of the dataset\n",
    "\n",
    "* The last five dishes are also of vegitarian diet. Their flavor_profile is sweet and course is dessert.\n",
    "* Two of the dishes in the last five are from Goa."
   ]
  },
  {
   "cell_type": "code",
   "execution_count": 6,
   "id": "4fe04822",
   "metadata": {
    "execution": {
     "iopub.execute_input": "2021-10-15T14:24:01.475569Z",
     "iopub.status.busy": "2021-10-15T14:24:01.457218Z",
     "iopub.status.idle": "2021-10-15T14:24:01.478190Z",
     "shell.execute_reply": "2021-10-15T14:24:01.478759Z",
     "shell.execute_reply.started": "2021-10-15T14:23:10.889466Z"
    },
    "papermill": {
     "duration": 0.053092,
     "end_time": "2021-10-15T14:24:01.478927",
     "exception": false,
     "start_time": "2021-10-15T14:24:01.425835",
     "status": "completed"
    },
    "tags": []
   },
   "outputs": [
    {
     "name": "stdout",
     "output_type": "stream",
     "text": [
      "<class 'pandas.core.frame.DataFrame'>\n",
      "RangeIndex: 255 entries, 0 to 254\n",
      "Data columns (total 9 columns):\n",
      " #   Column          Non-Null Count  Dtype \n",
      "---  ------          --------------  ----- \n",
      " 0   name            255 non-null    object\n",
      " 1   ingredients     255 non-null    object\n",
      " 2   diet            255 non-null    object\n",
      " 3   prep_time       255 non-null    int64 \n",
      " 4   cook_time       255 non-null    int64 \n",
      " 5   flavor_profile  255 non-null    object\n",
      " 6   course          255 non-null    object\n",
      " 7   state           255 non-null    object\n",
      " 8   region          254 non-null    object\n",
      "dtypes: int64(2), object(7)\n",
      "memory usage: 18.1+ KB\n"
     ]
    }
   ],
   "source": [
    "food.info()"
   ]
  },
  {
   "cell_type": "markdown",
   "id": "101d686a",
   "metadata": {
    "papermill": {
     "duration": 0.028492,
     "end_time": "2021-10-15T14:24:01.536016",
     "exception": false,
     "start_time": "2021-10-15T14:24:01.507524",
     "status": "completed"
    },
    "tags": []
   },
   "source": [
    "This method prints information about a DataFrame including the index dtype and column dtypes, non-null values and memory usage.\n",
    "\n",
    "* 7 columns have the information of object datatype.\n",
    "* 2 columns have the information of int64 datatype."
   ]
  },
  {
   "cell_type": "code",
   "execution_count": 7,
   "id": "3c7ddda8",
   "metadata": {
    "execution": {
     "iopub.execute_input": "2021-10-15T14:24:01.597680Z",
     "iopub.status.busy": "2021-10-15T14:24:01.596720Z",
     "iopub.status.idle": "2021-10-15T14:24:01.615355Z",
     "shell.execute_reply": "2021-10-15T14:24:01.615854Z",
     "shell.execute_reply.started": "2021-10-15T14:23:10.914289Z"
    },
    "papermill": {
     "duration": 0.051278,
     "end_time": "2021-10-15T14:24:01.616020",
     "exception": false,
     "start_time": "2021-10-15T14:24:01.564742",
     "status": "completed"
    },
    "tags": []
   },
   "outputs": [
    {
     "data": {
      "text/html": [
       "<div>\n",
       "<style scoped>\n",
       "    .dataframe tbody tr th:only-of-type {\n",
       "        vertical-align: middle;\n",
       "    }\n",
       "\n",
       "    .dataframe tbody tr th {\n",
       "        vertical-align: top;\n",
       "    }\n",
       "\n",
       "    .dataframe thead th {\n",
       "        text-align: right;\n",
       "    }\n",
       "</style>\n",
       "<table border=\"1\" class=\"dataframe\">\n",
       "  <thead>\n",
       "    <tr style=\"text-align: right;\">\n",
       "      <th></th>\n",
       "      <th>prep_time</th>\n",
       "      <th>cook_time</th>\n",
       "    </tr>\n",
       "  </thead>\n",
       "  <tbody>\n",
       "    <tr>\n",
       "      <th>count</th>\n",
       "      <td>255.000000</td>\n",
       "      <td>255.000000</td>\n",
       "    </tr>\n",
       "    <tr>\n",
       "      <th>mean</th>\n",
       "      <td>31.105882</td>\n",
       "      <td>34.529412</td>\n",
       "    </tr>\n",
       "    <tr>\n",
       "      <th>std</th>\n",
       "      <td>72.554409</td>\n",
       "      <td>48.265650</td>\n",
       "    </tr>\n",
       "    <tr>\n",
       "      <th>min</th>\n",
       "      <td>-1.000000</td>\n",
       "      <td>-1.000000</td>\n",
       "    </tr>\n",
       "    <tr>\n",
       "      <th>25%</th>\n",
       "      <td>10.000000</td>\n",
       "      <td>20.000000</td>\n",
       "    </tr>\n",
       "    <tr>\n",
       "      <th>50%</th>\n",
       "      <td>10.000000</td>\n",
       "      <td>30.000000</td>\n",
       "    </tr>\n",
       "    <tr>\n",
       "      <th>75%</th>\n",
       "      <td>20.000000</td>\n",
       "      <td>40.000000</td>\n",
       "    </tr>\n",
       "    <tr>\n",
       "      <th>max</th>\n",
       "      <td>500.000000</td>\n",
       "      <td>720.000000</td>\n",
       "    </tr>\n",
       "  </tbody>\n",
       "</table>\n",
       "</div>"
      ],
      "text/plain": [
       "        prep_time   cook_time\n",
       "count  255.000000  255.000000\n",
       "mean    31.105882   34.529412\n",
       "std     72.554409   48.265650\n",
       "min     -1.000000   -1.000000\n",
       "25%     10.000000   20.000000\n",
       "50%     10.000000   30.000000\n",
       "75%     20.000000   40.000000\n",
       "max    500.000000  720.000000"
      ]
     },
     "execution_count": 7,
     "metadata": {},
     "output_type": "execute_result"
    }
   ],
   "source": [
    "food.describe()"
   ]
  },
  {
   "cell_type": "markdown",
   "id": "e2ca71fc",
   "metadata": {
    "papermill": {
     "duration": 0.029327,
     "end_time": "2021-10-15T14:24:01.674766",
     "exception": false,
     "start_time": "2021-10-15T14:24:01.645439",
     "status": "completed"
    },
    "tags": []
   },
   "source": [
    "The describe() method is used for calculating some statistical data like percentile, mean and std of the numerical values of the dataset.\n",
    "\n",
    "* The mean of prep_time and cook_time is around 31 and 34 respectively.\n",
    "* Maximum prep_time is 500 and cook_time is 720."
   ]
  },
  {
   "cell_type": "code",
   "execution_count": 8,
   "id": "70c2789b",
   "metadata": {
    "execution": {
     "iopub.execute_input": "2021-10-15T14:24:01.738209Z",
     "iopub.status.busy": "2021-10-15T14:24:01.737273Z",
     "iopub.status.idle": "2021-10-15T14:24:01.746612Z",
     "shell.execute_reply": "2021-10-15T14:24:01.746111Z",
     "shell.execute_reply.started": "2021-10-15T14:23:10.932682Z"
    },
    "papermill": {
     "duration": 0.042484,
     "end_time": "2021-10-15T14:24:01.746747",
     "exception": false,
     "start_time": "2021-10-15T14:24:01.704263",
     "status": "completed"
    },
    "tags": []
   },
   "outputs": [
    {
     "data": {
      "text/plain": [
       "name              255\n",
       "ingredients       252\n",
       "diet                2\n",
       "prep_time          22\n",
       "cook_time          19\n",
       "flavor_profile      5\n",
       "course              4\n",
       "state              25\n",
       "region              7\n",
       "dtype: int64"
      ]
     },
     "execution_count": 8,
     "metadata": {},
     "output_type": "execute_result"
    }
   ],
   "source": [
    "food.nunique()"
   ]
  },
  {
   "cell_type": "markdown",
   "id": "c4a4975f",
   "metadata": {
    "papermill": {
     "duration": 0.028897,
     "end_time": "2021-10-15T14:24:01.805523",
     "exception": false,
     "start_time": "2021-10-15T14:24:01.776626",
     "status": "completed"
    },
    "tags": []
   },
   "source": [
    "This is used to get the number of unique values.\n",
    "\n",
    "* Name column has all unique values. So no two dishes has the same name.\n",
    "* Ingredients column has 252 unique values. So we can say that 3 dishes have the same ingredient.\n",
    "* Diet column has only two unique values.\n",
    "* State has 25 unique values. So we have dishes from 25 different states."
   ]
  },
  {
   "cell_type": "code",
   "execution_count": 9,
   "id": "f78130f0",
   "metadata": {
    "execution": {
     "iopub.execute_input": "2021-10-15T14:24:01.871838Z",
     "iopub.status.busy": "2021-10-15T14:24:01.871204Z",
     "iopub.status.idle": "2021-10-15T14:24:01.874820Z",
     "shell.execute_reply": "2021-10-15T14:24:01.874244Z",
     "shell.execute_reply.started": "2021-10-15T14:23:10.943789Z"
    },
    "papermill": {
     "duration": 0.040106,
     "end_time": "2021-10-15T14:24:01.874963",
     "exception": false,
     "start_time": "2021-10-15T14:24:01.834857",
     "status": "completed"
    },
    "tags": []
   },
   "outputs": [
    {
     "data": {
      "text/plain": [
       "name              0\n",
       "ingredients       0\n",
       "diet              0\n",
       "prep_time         0\n",
       "cook_time         0\n",
       "flavor_profile    0\n",
       "course            0\n",
       "state             0\n",
       "region            1\n",
       "dtype: int64"
      ]
     },
     "execution_count": 9,
     "metadata": {},
     "output_type": "execute_result"
    }
   ],
   "source": [
    "food.isnull().sum()"
   ]
  },
  {
   "cell_type": "markdown",
   "id": "47b0499f",
   "metadata": {
    "papermill": {
     "duration": 0.03008,
     "end_time": "2021-10-15T14:24:01.935527",
     "exception": false,
     "start_time": "2021-10-15T14:24:01.905447",
     "status": "completed"
    },
    "tags": []
   },
   "source": [
    "It tells us the number of null values present in each column.\n",
    "\n",
    "* There is only a single null value in the entire dataset. It is present in the region column.\n",
    "* All the remaining columns have non null values."
   ]
  },
  {
   "cell_type": "code",
   "execution_count": 10,
   "id": "331e6613",
   "metadata": {
    "execution": {
     "iopub.execute_input": "2021-10-15T14:24:02.000084Z",
     "iopub.status.busy": "2021-10-15T14:24:01.999397Z",
     "iopub.status.idle": "2021-10-15T14:24:02.006182Z",
     "shell.execute_reply": "2021-10-15T14:24:02.005653Z",
     "shell.execute_reply.started": "2021-10-15T14:23:10.959634Z"
    },
    "papermill": {
     "duration": 0.04009,
     "end_time": "2021-10-15T14:24:02.006316",
     "exception": false,
     "start_time": "2021-10-15T14:24:01.966226",
     "status": "completed"
    },
    "tags": []
   },
   "outputs": [
    {
     "data": {
      "text/plain": [
       "name                                   Shrikhand\n",
       "ingredients       Curd, sugar, saffron, cardamom\n",
       "diet                                  vegetarian\n",
       "prep_time                                     10\n",
       "cook_time                                    720\n",
       "flavor_profile                             sweet\n",
       "course                                   dessert\n",
       "state                                Maharashtra\n",
       "region                                      West\n",
       "Name: 62, dtype: object"
      ]
     },
     "execution_count": 10,
     "metadata": {},
     "output_type": "execute_result"
    }
   ],
   "source": [
    "idx = food[\"cook_time\"].idxmax()\n",
    "food.iloc[idx]"
   ]
  },
  {
   "cell_type": "markdown",
   "id": "7d81155e",
   "metadata": {
    "papermill": {
     "duration": 0.030237,
     "end_time": "2021-10-15T14:24:02.069328",
     "exception": false,
     "start_time": "2021-10-15T14:24:02.039091",
     "status": "completed"
    },
    "tags": []
   },
   "source": [
    "This gives us the details of food which takes maximum cooktime.\n",
    "\n",
    "* Shrikhand takes the maximum cook_time of 720.\n",
    "* It is a dessert of Western Maharastra.\n",
    "* It is of vegetarian diet and is sweet. Made up of four ingredients."
   ]
  },
  {
   "cell_type": "code",
   "execution_count": 11,
   "id": "11ac7aec",
   "metadata": {
    "execution": {
     "iopub.execute_input": "2021-10-15T14:24:02.137197Z",
     "iopub.status.busy": "2021-10-15T14:24:02.133070Z",
     "iopub.status.idle": "2021-10-15T14:24:02.140806Z",
     "shell.execute_reply": "2021-10-15T14:24:02.140182Z",
     "shell.execute_reply.started": "2021-10-15T14:23:10.978230Z"
    },
    "papermill": {
     "duration": 0.041189,
     "end_time": "2021-10-15T14:24:02.140935",
     "exception": false,
     "start_time": "2021-10-15T14:24:02.099746",
     "status": "completed"
    },
    "tags": []
   },
   "outputs": [
    {
     "data": {
      "text/plain": [
       "name                                                   Pindi chana\n",
       "ingredients       Fennel, tea bags, tomato, kasuri methi, cinnamon\n",
       "diet                                                    vegetarian\n",
       "prep_time                                                      500\n",
       "cook_time                                                      120\n",
       "flavor_profile                                               spicy\n",
       "course                                                 main course\n",
       "state                                                       Punjab\n",
       "region                                                       North\n",
       "Name: 114, dtype: object"
      ]
     },
     "execution_count": 11,
     "metadata": {},
     "output_type": "execute_result"
    }
   ],
   "source": [
    "idx = food[\"prep_time\"].idxmax()\n",
    "food.iloc[idx]"
   ]
  },
  {
   "cell_type": "markdown",
   "id": "1de8c532",
   "metadata": {
    "papermill": {
     "duration": 0.030332,
     "end_time": "2021-10-15T14:24:02.202192",
     "exception": false,
     "start_time": "2021-10-15T14:24:02.171860",
     "status": "completed"
    },
    "tags": []
   },
   "source": [
    "This gives us the details of food which takes maximum cooktime.\n",
    "\n",
    "* Pindi chana takes the maximum prep_time of 500.\n",
    "* It is a main course of Northern Punjab.\n",
    "* It is of vegetarian diet and is spicy .Made up of five ingredients."
   ]
  },
  {
   "cell_type": "code",
   "execution_count": 12,
   "id": "a26d5953",
   "metadata": {
    "execution": {
     "iopub.execute_input": "2021-10-15T14:24:02.266797Z",
     "iopub.status.busy": "2021-10-15T14:24:02.266055Z",
     "iopub.status.idle": "2021-10-15T14:24:02.706125Z",
     "shell.execute_reply": "2021-10-15T14:24:02.706634Z",
     "shell.execute_reply.started": "2021-10-15T14:23:10.991388Z"
    },
    "papermill": {
     "duration": 0.474051,
     "end_time": "2021-10-15T14:24:02.706804",
     "exception": false,
     "start_time": "2021-10-15T14:24:02.232753",
     "status": "completed"
    },
    "tags": []
   },
   "outputs": [
    {
     "data": {
      "text/plain": [
       "<AxesSubplot:>"
      ]
     },
     "execution_count": 12,
     "metadata": {},
     "output_type": "execute_result"
    },
    {
     "data": {
      "image/png": "[encoded data removed]",
      "text/plain": [
       "<Figure size 432x288 with 1 Axes>"
      ]
     },
     "metadata": {
      "needs_background": "light"
     },
     "output_type": "display_data"
    }
   ],
   "source": [
    "sns.lineplot(data=food)"
   ]
  },
  {
   "cell_type": "markdown",
   "id": "ab969c1c",
   "metadata": {
    "papermill": {
     "duration": 0.031599,
     "end_time": "2021-10-15T14:24:02.770746",
     "exception": false,
     "start_time": "2021-10-15T14:24:02.739147",
     "status": "completed"
    },
    "tags": []
   },
   "source": [
    "Line plot displays data using a number line.\n",
    "\n",
    "* Only one food item has cook_time 700. Remaining all other have cook_time less than 150.\n",
    "* Maximum prep_time is 500 and there are few items which aave prep_time in the range of 100-400, remaining all of them have less than 50."
   ]
  },
  {
   "cell_type": "code",
   "execution_count": 13,
   "id": "ff1b3d42",
   "metadata": {
    "execution": {
     "iopub.execute_input": "2021-10-15T14:24:02.881996Z",
     "iopub.status.busy": "2021-10-15T14:24:02.878077Z",
     "iopub.status.idle": "2021-10-15T14:24:03.104524Z",
     "shell.execute_reply": "2021-10-15T14:24:03.103841Z",
     "shell.execute_reply.started": "2021-10-15T14:23:11.311962Z"
    },
    "papermill": {
     "duration": 0.301458,
     "end_time": "2021-10-15T14:24:03.104675",
     "exception": false,
     "start_time": "2021-10-15T14:24:02.803217",
     "status": "completed"
    },
    "tags": []
   },
   "outputs": [
    {
     "data": {
      "text/plain": [
       "<AxesSubplot:>"
      ]
     },
     "execution_count": 13,
     "metadata": {},
     "output_type": "execute_result"
    },
    {
     "data": {
      "image/png": "[encoded data removed]",
      "text/plain": [
       "<Figure size 432x288 with 2 Axes>"
      ]
     },
     "metadata": {
      "needs_background": "light"
     },
     "output_type": "display_data"
    }
   ],
   "source": [
    "corr=food.corr()\n",
    "sns.heatmap(corr,xticklabels=corr.columns,yticklabels=corr.columns,annot=True)"
   ]
  },
  {
   "cell_type": "markdown",
   "id": "7ff8d27a",
   "metadata": {
    "papermill": {
     "duration": 0.033806,
     "end_time": "2021-10-15T14:24:03.172989",
     "exception": false,
     "start_time": "2021-10-15T14:24:03.139183",
     "status": "completed"
    },
    "tags": []
   },
   "source": [
    "This is used to show the dependence between multiple variables at the same time.\n",
    "\n",
    "* From this heatmap it is clear that cook_time and prep_time are not dependent on each other."
   ]
  },
  {
   "cell_type": "code",
   "execution_count": 14,
   "id": "07d0bb03",
   "metadata": {
    "execution": {
     "iopub.execute_input": "2021-10-15T14:24:03.244738Z",
     "iopub.status.busy": "2021-10-15T14:24:03.244048Z",
     "iopub.status.idle": "2021-10-15T14:24:03.694942Z",
     "shell.execute_reply": "2021-10-15T14:24:03.694438Z",
     "shell.execute_reply.started": "2021-10-15T14:23:11.586928Z"
    },
    "papermill": {
     "duration": 0.488039,
     "end_time": "2021-10-15T14:24:03.695082",
     "exception": false,
     "start_time": "2021-10-15T14:24:03.207043",
     "status": "completed"
    },
    "tags": []
   },
   "outputs": [
    {
     "data": {
      "image/png": "[encoded data removed]",
      "text/plain": [
       "<Figure size 504x288 with 2 Axes>"
      ]
     },
     "metadata": {
      "needs_background": "light"
     },
     "output_type": "display_data"
    }
   ],
   "source": [
    "food.hist(figsize=(7, 4), bins=20, xlabelsize=10, ylabelsize=10); "
   ]
  },
  {
   "cell_type": "markdown",
   "id": "2a7db6c0",
   "metadata": {
    "papermill": {
     "duration": 0.035258,
     "end_time": "2021-10-15T14:24:03.766158",
     "exception": false,
     "start_time": "2021-10-15T14:24:03.730900",
     "status": "completed"
    },
    "tags": []
   },
   "source": [
    "This plots is a histogram with width as 7 and height as 4. Bins represents the bars of histogram.\n",
    "\n",
    "* About 200 dishes have less than 25 prep_time.\n",
    "* About 160 dishes have less than 25 cook_time and 70 have cook_time in the range of 25-50."
   ]
  },
  {
   "cell_type": "code",
   "execution_count": 15,
   "id": "a99d70d7",
   "metadata": {
    "execution": {
     "iopub.execute_input": "2021-10-15T14:24:03.877373Z",
     "iopub.status.busy": "2021-10-15T14:24:03.876620Z",
     "iopub.status.idle": "2021-10-15T14:24:04.064105Z",
     "shell.execute_reply": "2021-10-15T14:24:04.063522Z",
     "shell.execute_reply.started": "2021-10-15T14:23:12.036155Z"
    },
    "papermill": {
     "duration": 0.262619,
     "end_time": "2021-10-15T14:24:04.064245",
     "exception": false,
     "start_time": "2021-10-15T14:24:03.801626",
     "status": "completed"
    },
    "tags": []
   },
   "outputs": [
    {
     "data": {
      "text/plain": [
       "<AxesSubplot:>"
      ]
     },
     "execution_count": 15,
     "metadata": {},
     "output_type": "execute_result"
    },
    {
     "data": {
      "image/png": "[encoded data removed]",
      "text/plain": [
       "<Figure size 432x288 with 1 Axes>"
      ]
     },
     "metadata": {
      "needs_background": "light"
     },
     "output_type": "display_data"
    }
   ],
   "source": [
    "food.boxplot()"
   ]
  },
  {
   "cell_type": "markdown",
   "id": "b05681c4",
   "metadata": {
    "papermill": {
     "duration": 0.034747,
     "end_time": "2021-10-15T14:24:04.195487",
     "exception": false,
     "start_time": "2021-10-15T14:24:04.160740",
     "status": "completed"
    },
    "tags": []
   },
   "source": [
    " A box plot is a method for graphically depicting groups of numerical data through their quartiles.\n",
    " \n",
    " * prep_time has too many outlier. \n",
    " * cook_time has very less number of outliers compared to the prep_time."
   ]
  },
  {
   "cell_type": "code",
   "execution_count": 16,
   "id": "5e55f2e5",
   "metadata": {
    "execution": {
     "iopub.execute_input": "2021-10-15T14:24:04.313645Z",
     "iopub.status.busy": "2021-10-15T14:24:04.297114Z",
     "iopub.status.idle": "2021-10-15T14:24:05.097131Z",
     "shell.execute_reply": "2021-10-15T14:24:05.097692Z",
     "shell.execute_reply.started": "2021-10-15T14:23:12.256982Z"
    },
    "papermill": {
     "duration": 0.867603,
     "end_time": "2021-10-15T14:24:05.097911",
     "exception": false,
     "start_time": "2021-10-15T14:24:04.230308",
     "status": "completed"
    },
    "tags": []
   },
   "outputs": [
    {
     "data": {
      "text/plain": [
       "<seaborn.axisgrid.FacetGrid at 0x7f8964e1fbd0>"
      ]
     },
     "execution_count": 16,
     "metadata": {},
     "output_type": "execute_result"
    },
    {
     "data": {
      "image/png": "[encoded data removed]",
      "text/plain": [
       "<Figure size 804.875x396 with 1 Axes>"
      ]
     },
     "metadata": {
      "needs_background": "light"
     },
     "output_type": "display_data"
    }
   ],
   "source": [
    "sns.catplot(data=food, x=\"region\", y=\"state\", hue=\"diet\", height=5.5, aspect=1.75)"
   ]
  },
  {
   "cell_type": "markdown",
   "id": "ec282517",
   "metadata": {
    "papermill": {
     "duration": 0.037598,
     "end_time": "2021-10-15T14:24:05.173183",
     "exception": false,
     "start_time": "2021-10-15T14:24:05.135585",
     "status": "completed"
    },
    "tags": []
   },
   "source": [
    "* Most of the food items are of vegetarian diet.\n",
    "* Very few of them are of non vegetarian diet.\n",
    "* West Bengal, Punjab, Delhi, Assam etc have non vegetarian dishes.\n",
    "* North Eastern region has more non vegetaarian items comparatively\n",
    "* Most of the dishes are from Southern region"
   ]
  },
  {
   "cell_type": "code",
   "execution_count": 17,
   "id": "32fc46a6",
   "metadata": {
    "execution": {
     "iopub.execute_input": "2021-10-15T14:24:05.259426Z",
     "iopub.status.busy": "2021-10-15T14:24:05.256741Z",
     "iopub.status.idle": "2021-10-15T14:24:06.300593Z",
     "shell.execute_reply": "2021-10-15T14:24:06.301057Z",
     "shell.execute_reply.started": "2021-10-15T14:23:13.113609Z"
    },
    "papermill": {
     "duration": 1.089435,
     "end_time": "2021-10-15T14:24:06.301225",
     "exception": false,
     "start_time": "2021-10-15T14:24:05.211790",
     "status": "completed"
    },
    "tags": []
   },
   "outputs": [
    {
     "data": {
      "text/plain": [
       "<seaborn.axisgrid.FacetGrid at 0x7f8964d2cc10>"
      ]
     },
     "execution_count": 17,
     "metadata": {},
     "output_type": "execute_result"
    },
    {
     "data": {
      "image/png": "[encoded data removed]",
      "text/plain": [
       "<Figure size 790.5x396 with 1 Axes>"
      ]
     },
     "metadata": {
      "needs_background": "light"
     },
     "output_type": "display_data"
    }
   ],
   "source": [
    "sns.catplot(data=food, x=\"region\", y=\"state\", hue=\"course\", height=5.5, aspect=1.75)"
   ]
  },
  {
   "cell_type": "markdown",
   "id": "988db3a7",
   "metadata": {
    "papermill": {
     "duration": 0.038193,
     "end_time": "2021-10-15T14:24:06.377429",
     "exception": false,
     "start_time": "2021-10-15T14:24:06.339236",
     "status": "completed"
    },
    "tags": []
   },
   "source": [
    "* Most of the food items are main course.\n",
    "* Very few of them are starters.\n",
    "* West Bengal, Punjab, Utterpradesh, Assam and Tamil Nadu are the states that have starters.\n",
    "* There are no starters from the central region\n",
    "* Least of the dishes are from central region."
   ]
  },
  {
   "cell_type": "code",
   "execution_count": 18,
   "id": "3980708d",
   "metadata": {
    "execution": {
     "iopub.execute_input": "2021-10-15T14:24:06.458135Z",
     "iopub.status.busy": "2021-10-15T14:24:06.457471Z",
     "iopub.status.idle": "2021-10-15T14:24:06.967374Z",
     "shell.execute_reply": "2021-10-15T14:24:06.966840Z",
     "shell.execute_reply.started": "2021-10-15T14:23:14.210236Z"
    },
    "papermill": {
     "duration": 0.551701,
     "end_time": "2021-10-15T14:24:06.967522",
     "exception": false,
     "start_time": "2021-10-15T14:24:06.415821",
     "status": "completed"
    },
    "tags": []
   },
   "outputs": [
    {
     "data": {
      "text/plain": [
       "<AxesSubplot:xlabel='flavor_profile', ylabel='cook_time'>"
      ]
     },
     "execution_count": 18,
     "metadata": {},
     "output_type": "execute_result"
    },
    {
     "data": {
      "image/png": "[encoded data removed]",
      "text/plain": [
       "<Figure size 432x288 with 1 Axes>"
      ]
     },
     "metadata": {
      "needs_background": "light"
     },
     "output_type": "display_data"
    }
   ],
   "source": [
    "sns.barplot(x=\"flavor_profile\", y=\"cook_time\", hue=\"diet\", data=food)\n"
   ]
  },
  {
   "cell_type": "markdown",
   "id": "911fc811",
   "metadata": {
    "papermill": {
     "duration": 0.039454,
     "end_time": "2021-10-15T14:24:07.046635",
     "exception": false,
     "start_time": "2021-10-15T14:24:07.007181",
     "status": "completed"
    },
    "tags": []
   },
   "source": [
    "A bar chart describes the comparisons between the discrete categories.\n",
    "\n",
    "* Sweet dishes have the highest cook_time of 45 and they are all vegetarian.\n",
    "* Sour dishes have the least cook_time of 10 and they are also vegetarian.\n",
    "* Spice dishes are both vegetarian and non vegetarian.\n",
    "* Bitter dishes have secon highest cook_time and are only vegetarian.\n",
    "* We have some vegetarian and non vegetarian dishes of an unknown flavor_profile."
   ]
  },
  {
   "cell_type": "code",
   "execution_count": 19,
   "id": "505f3160",
   "metadata": {
    "execution": {
     "iopub.execute_input": "2021-10-15T14:24:07.170217Z",
     "iopub.status.busy": "2021-10-15T14:24:07.169242Z",
     "iopub.status.idle": "2021-10-15T14:24:07.539656Z",
     "shell.execute_reply": "2021-10-15T14:24:07.539080Z",
     "shell.execute_reply.started": "2021-10-15T14:23:14.721836Z"
    },
    "papermill": {
     "duration": 0.453653,
     "end_time": "2021-10-15T14:24:07.539796",
     "exception": false,
     "start_time": "2021-10-15T14:24:07.086143",
     "status": "completed"
    },
    "tags": []
   },
   "outputs": [
    {
     "data": {
      "text/plain": [
       "<AxesSubplot:xlabel='count', ylabel='state'>"
      ]
     },
     "execution_count": 19,
     "metadata": {},
     "output_type": "execute_result"
    },
    {
     "data": {
      "image/png": "[encoded data removed]",
      "text/plain": [
       "<Figure size 864x576 with 1 Axes>"
      ]
     },
     "metadata": {
      "needs_background": "light"
     },
     "output_type": "display_data"
    }
   ],
   "source": [
    "plt.figure(figsize=(12,8))\n",
    "sns.countplot(data=food, y=\"state\")"
   ]
  },
  {
   "cell_type": "markdown",
   "id": "f773c582",
   "metadata": {
    "papermill": {
     "duration": 0.039929,
     "end_time": "2021-10-15T14:24:07.620627",
     "exception": false,
     "start_time": "2021-10-15T14:24:07.580698",
     "status": "completed"
    },
    "tags": []
   },
   "source": [
    "It shows the counts of observations in each categorical bin using bars.\n",
    "\n",
    "* Most of the food items of this dataset are from Gujarat. There are about 35 items.\n",
    "* There are many food items from Punjab, Mahrastra, West Bengal etc\n",
    "* There are very few food items from Haryana, Chhattisgarh,Delhi etc."
   ]
  },
  {
   "cell_type": "code",
   "execution_count": 20,
   "id": "17d40bbf",
   "metadata": {
    "execution": {
     "iopub.execute_input": "2021-10-15T14:24:07.783685Z",
     "iopub.status.busy": "2021-10-15T14:24:07.748585Z",
     "iopub.status.idle": "2021-10-15T14:24:09.410046Z",
     "shell.execute_reply": "2021-10-15T14:24:09.410580Z",
     "shell.execute_reply.started": "2021-10-15T14:23:15.093937Z"
    },
    "papermill": {
     "duration": 1.74923,
     "end_time": "2021-10-15T14:24:09.410752",
     "exception": false,
     "start_time": "2021-10-15T14:24:07.661522",
     "status": "completed"
    },
    "tags": []
   },
   "outputs": [
    {
     "data": {
      "text/plain": [
       "<seaborn.axisgrid.PairGrid at 0x7f8964b64c90>"
      ]
     },
     "execution_count": 20,
     "metadata": {},
     "output_type": "execute_result"
    },
    {
     "data": {
      "image/png": "[encoded data removed]",
      "text/plain": [
       "<Figure size 505.25x432 with 6 Axes>"
      ]
     },
     "metadata": {
      "needs_background": "light"
     },
     "output_type": "display_data"
    }
   ],
   "source": [
    "sns.pairplot(data=food,hue=\"flavor_profile\",height=3)\n"
   ]
  },
  {
   "cell_type": "markdown",
   "id": "216db923",
   "metadata": {
    "papermill": {
     "duration": 0.041629,
     "end_time": "2021-10-15T14:24:09.494769",
     "exception": false,
     "start_time": "2021-10-15T14:24:09.453140",
     "status": "completed"
    },
    "tags": []
   },
   "source": [
    "A pairs plot is a matrix of scatterplots that lets you understand the pairwise relationship between different variables in a dataset. \n",
    "\n",
    "* Spicy dishes have the highest cook_time and prep_time.\n",
    "* Sweet dishes have the second highest cook_time and prep_time.\n",
    "* A sweet item has highest cook_time has very low prep_time.\n",
    "* Most of the dishes have cook_time less than 100 and prep_time less than 200."
   ]
  },
  {
   "cell_type": "code",
   "execution_count": 21,
   "id": "6de739f7",
   "metadata": {
    "execution": {
     "iopub.execute_input": "2021-10-15T14:24:09.612675Z",
     "iopub.status.busy": "2021-10-15T14:24:09.608663Z",
     "iopub.status.idle": "2021-10-15T14:24:09.788086Z",
     "shell.execute_reply": "2021-10-15T14:24:09.787561Z",
     "shell.execute_reply.started": "2021-10-15T14:23:16.834030Z"
    },
    "papermill": {
     "duration": 0.251109,
     "end_time": "2021-10-15T14:24:09.788240",
     "exception": false,
     "start_time": "2021-10-15T14:24:09.537131",
     "status": "completed"
    },
    "tags": []
   },
   "outputs": [
    {
     "data": {
      "text/plain": [
       "<AxesSubplot:xlabel='course', ylabel='prep_time'>"
      ]
     },
     "execution_count": 21,
     "metadata": {},
     "output_type": "execute_result"
    },
    {
     "data": {
      "image/png": "[encoded data removed]",
      "text/plain": [
       "<Figure size 432x288 with 1 Axes>"
      ]
     },
     "metadata": {
      "needs_background": "light"
     },
     "output_type": "display_data"
    }
   ],
   "source": [
    "sns.stripplot(x=\"course\",y=\"prep_time\",data=food)"
   ]
  },
  {
   "cell_type": "markdown",
   "id": "b75af01a",
   "metadata": {
    "papermill": {
     "duration": 0.043988,
     "end_time": "2021-10-15T14:24:09.876452",
     "exception": false,
     "start_time": "2021-10-15T14:24:09.832464",
     "status": "completed"
    },
    "tags": []
   },
   "source": [
    "In a stripplot all observations are shown along with some representation of the underlying distribution.\n",
    "\n",
    "* Few dishes from main course and dessert have very high prep_time which is around 500.\n",
    "* For starters minimum prep_time is around 125 and maximum prep_time is around 250.\n",
    "* All the starters have prep_time less than 200 except few which have prep_time around 375."
   ]
  },
  {
   "cell_type": "markdown",
   "id": "45bd2400",
   "metadata": {
    "papermill": {
     "duration": 0.043717,
     "end_time": "2021-10-15T14:24:09.965145",
     "exception": false,
     "start_time": "2021-10-15T14:24:09.921428",
     "status": "completed"
    },
    "tags": []
   },
   "source": [
    "**Conclusion:-**\n",
    "* This dataset has only one null value which is in the region column.\n",
    "* There are more number of vegetarian dishes.\n",
    "* Shrikhand has maximum cook_time and Pindi Chana has the maximum prep_time.\n",
    "* Maximum cook_time is around 700 and prep_time is around 500.\n",
    "* Prep_time and Cook_time are independent of each other and prep_time has too many outliers when compare with cook_time.\n",
    "* Most of the dishes are from Southern region. More non vegetarian dishes are in North Eastern region.\n",
    "* Most of the dishes are of main course and very few are starters.\n",
    "* Sweet dishes have the highest cook_time of 45 and they are all vegetarian.\n",
    "* Most of the food items of this dataset are from Gujarat. There are about 35 items.\n",
    "* Most of the dishes have cook_time less than 100 and prep_time less than 200."
   ]
  }
 ],
 "metadata": {
  "kernelspec": {
   "display_name": "Python 3",
   "language": "python",
   "name": "python3"
  },
  "language_info": {
   "codemirror_mode": {
    "name": "ipython",
    "version": 3
   },
   "file_extension": ".py",
   "mimetype": "text/x-python",
   "name": "python",
   "nbconvert_exporter": "python",
   "pygments_lexer": "ipython3",
   "version": "3.7.10"
  },
  "papermill": {
   "default_parameters": {},
   "duration": 19.261288,
   "end_time": "2021-10-15T14:24:10.720921",
   "environment_variables": {},
   "exception": null,
   "input_path": "__notebook__.ipynb",
   "output_path": "__notebook__.ipynb",
   "parameters": {},
   "start_time": "2021-10-15T14:23:51.459633",
   "version": "2.3.3"
  }
 },
 "nbformat": 4,
 "nbformat_minor": 5
}
